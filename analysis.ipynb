{
 "cells": [
  {
   "cell_type": "markdown",
   "id": "44db276d-bac6-4c49-9acc-27065aa49a78",
   "metadata": {},
   "source": [
    "# Analysis of NYC Citi Bike Share System"
   ]
  },
  {
   "cell_type": "markdown",
   "id": "810ea52c-e7bb-4d78-8f6d-3f412e6bdc2f",
   "metadata": {},
   "source": [
    "## Business Understanding\n",
    "Since 2013, the Citi Bike share program has been implemented in New York City as a means of promoting cleaner, healthier modes of transportation. It has helped reduce the usage of gas-powered vehicles and encouraged healthier ways of living.\n",
    "\n",
    "The Bike Share system is currently managed by Lyft; however, many drawbacks and issues persist. For example, a 2023 study of the system noted that a majority of bike stations in low-income areas, such as the Bronx, typically do not have bikes available for at least an hour. Many bikes in these areas also do not receive adequate maintenance.\n",
    "\n",
    "In this study, we will analyze bike ride data to understand the behavior of riders during July, one of the busiest months of the year. We will address the following questions:\n",
    "\n",
    "1. Which boroughs have the most stations?\n",
    "2. When are bikers most actively riding?\n",
    "3. Which stations receive bikes from the most stations? Which stations send bikes to the most stations?\n",
    "4. Can we identify any monotonic relationships for future modeling?\n",
    "\n",
    "By understanding which boroughs have more stations, we can better understand which boroughs require more stations. Understanding when bikers are most active allows us to identify peak usage times, so maintenance staff can avoid servicing bikes during these periods. \n",
    "\n",
    "One significant, ongoing issue is the reallocation of bikes to different stations. By analyzing the relationships between stations and rider activity, we can better understand where bikes should be reallocated. Lastly, we aim to determine whether the historical data provide any monotonic relationships—defined as relationships where features and target values either increase together or decrease together. This insight will motivate the development and selection of machine learning models for future prediction tasks.\n"
   ]
  },
  {
   "cell_type": "markdown",
   "id": "a4686838-2af4-4435-a0ca-e242b3622dd0",
   "metadata": {},
   "source": [
    "## Data Understanding\n",
    "\n",
    "The Citi Bike Share system was sponsored by Citi Bank and managed by Alta Bikeshare from 2013 to 2015. In 2015, Alta Bikeshare rebranded as Motivate, and by the end of their management tenure, they had expanded to 754 stations and 12,000 bikes—doubling the bike share footprint from three years prior. In 2018, Lyft, the ride-share app, acquired Motivate and has since managed the Bike Share system.\n",
    "\n",
    "The historical bike share data can be found [here](https://s3.amazonaws.com/tripdata/index.html), and general information about each bike station can also be obtained [here](https://gbfs.lyft.com/gbfs/2.3/bkn/en/station_information.json). The data provides various information such as the geographical coordinates of the stations, which stations a bike began its ride from, and where the bike was parked at the end of the ride."
   ]
  },
  {
   "cell_type": "code",
   "execution_count": 17,
   "id": "2878a94c-28c6-4333-9868-93396f97dc32",
   "metadata": {},
   "outputs": [],
   "source": [
    "# ---- LIBRARY IMPORTS ----\n",
    "import pandas as pd\n",
    "import datetime\n",
    "import requests\n",
    "from datetime import datetime\n",
    "from haversine import haversine\n",
    "import seaborn as sns\n",
    "import matplotlib.pyplot as plt\n",
    "import networkx as nx\n",
    "import numpy as np\n",
    "from shapely.geometry import shape\n",
    "from shapely.geometry import Point\n",
    "from shapely import Polygon\n",
    "import folium"
   ]
  },
  {
   "cell_type": "code",
   "execution_count": 2,
   "id": "4f185f02-ef04-43ad-9f06-0dd20b58eccf",
   "metadata": {
    "scrolled": true
   },
   "outputs": [],
   "source": [
    "# ---- READING IN DATASETS ----\n",
    "#  Bike ride data\n",
    "usecols = [index for index in range(1, 14)]\n",
    "dtype = {'ride_id': \"string\", 'rideable_type': \"string\", 'started_at': \"string\", 'ended_at': \"string\", 'start_station_name': \"string\",\n",
    "         'start_station_id': \"string\", 'end_station_name': \"string\", 'end_station_id': \"string\", 'start_lat': float,\n",
    "         'start_lng': float, 'end_lat': float, 'end_lng': float, 'member_casual': \"string\"}\n",
    "df = pd.read_csv('data/202407-citibike-tripdata_5.csv', usecols=usecols, dtype=dtype)\n",
    "\n",
    "# Bike station information\n",
    "station_info_url = \"https://gbfs.lyft.com/gbfs/2.3/bkn/en/station_information.json\"\n",
    "station_info_dict = requests.get(station_info_url).json()\n",
    "station_info_list = station_info_dict.get(\"data\").get(\"stations\")\n",
    "# Get dataframe of station info\n",
    "station_info = pd.DataFrame(station_info_list)\n",
    "\n",
    "# Polygon Coordinates\n",
    "polygon_coordinates_url = \"https://data.cityofnewyork.us/resource/7t3b-ywvw.json\"\n",
    "polygon_coordinates_list = requests.get(polygon_coordinates_url).json()\n",
    "\n",
    "borough_polygon_dict = {}\n",
    "\n",
    "for dict_ in polygon_coordinates_list:\n",
    "    borough_name = dict_.get('boro_name')\n",
    "    borough_multipolygon = dict_.get('the_geom')#.get('coordinates')\n",
    "    borough_polygon_dict.update({borough_name: shape(borough_multipolygon)})"
   ]
  },
  {
   "cell_type": "code",
   "execution_count": 3,
   "id": "143876dd-b4f3-46fa-8306-54cfcd407595",
   "metadata": {},
   "outputs": [
    {
     "data": {
      "text/html": [
       "<div>\n",
       "<style scoped>\n",
       "    .dataframe tbody tr th:only-of-type {\n",
       "        vertical-align: middle;\n",
       "    }\n",
       "\n",
       "    .dataframe tbody tr th {\n",
       "        vertical-align: top;\n",
       "    }\n",
       "\n",
       "    .dataframe thead th {\n",
       "        text-align: right;\n",
       "    }\n",
       "</style>\n",
       "<table border=\"1\" class=\"dataframe\">\n",
       "  <thead>\n",
       "    <tr style=\"text-align: right;\">\n",
       "      <th></th>\n",
       "      <th>ride_id</th>\n",
       "      <th>rideable_type</th>\n",
       "      <th>started_at</th>\n",
       "      <th>ended_at</th>\n",
       "      <th>start_station_name</th>\n",
       "      <th>start_station_id</th>\n",
       "      <th>end_station_name</th>\n",
       "      <th>end_station_id</th>\n",
       "      <th>start_lat</th>\n",
       "      <th>start_lng</th>\n",
       "      <th>end_lat</th>\n",
       "      <th>end_lng</th>\n",
       "      <th>member_casual</th>\n",
       "    </tr>\n",
       "  </thead>\n",
       "  <tbody>\n",
       "    <tr>\n",
       "      <th>0</th>\n",
       "      <td>557426B1CE207702</td>\n",
       "      <td>electric_bike</td>\n",
       "      <td>2024-07-17 19:30:15.471</td>\n",
       "      <td>2024-07-17 19:34:22.646</td>\n",
       "      <td>Sullivan St &amp; Washington Sq</td>\n",
       "      <td>5721.01</td>\n",
       "      <td>E 12 St &amp; 3 Ave</td>\n",
       "      <td>5788.12</td>\n",
       "      <td>40.730477</td>\n",
       "      <td>-73.999061</td>\n",
       "      <td>40.732233</td>\n",
       "      <td>-73.988900</td>\n",
       "      <td>member</td>\n",
       "    </tr>\n",
       "    <tr>\n",
       "      <th>1</th>\n",
       "      <td>A60E366FEE8B51E8</td>\n",
       "      <td>electric_bike</td>\n",
       "      <td>2024-07-15 19:17:52.523</td>\n",
       "      <td>2024-07-15 19:25:24.399</td>\n",
       "      <td>Sullivan St &amp; Washington Sq</td>\n",
       "      <td>5721.01</td>\n",
       "      <td>Forsyth St &amp; Grand St</td>\n",
       "      <td>5382.07</td>\n",
       "      <td>40.730477</td>\n",
       "      <td>-73.999061</td>\n",
       "      <td>40.717798</td>\n",
       "      <td>-73.993161</td>\n",
       "      <td>member</td>\n",
       "    </tr>\n",
       "    <tr>\n",
       "      <th>2</th>\n",
       "      <td>ACA30207F80B5DF9</td>\n",
       "      <td>classic_bike</td>\n",
       "      <td>2024-07-27 13:34:48.531</td>\n",
       "      <td>2024-07-27 13:49:55.913</td>\n",
       "      <td>W 37 St &amp; 10 Ave</td>\n",
       "      <td>6611.02</td>\n",
       "      <td>Perry St &amp; Bleecker St</td>\n",
       "      <td>5922.07</td>\n",
       "      <td>40.756604</td>\n",
       "      <td>-73.997901</td>\n",
       "      <td>40.735354</td>\n",
       "      <td>-74.004831</td>\n",
       "      <td>member</td>\n",
       "    </tr>\n",
       "    <tr>\n",
       "      <th>3</th>\n",
       "      <td>B3A138C956E9A729</td>\n",
       "      <td>electric_bike</td>\n",
       "      <td>2024-07-23 11:01:36.895</td>\n",
       "      <td>2024-07-23 11:06:02.796</td>\n",
       "      <td>Melrose St &amp; Broadway</td>\n",
       "      <td>4801.04</td>\n",
       "      <td>Nostrand Ave &amp; Myrtle Ave</td>\n",
       "      <td>4707.04</td>\n",
       "      <td>40.697481</td>\n",
       "      <td>-73.935877</td>\n",
       "      <td>40.695270</td>\n",
       "      <td>-73.952381</td>\n",
       "      <td>member</td>\n",
       "    </tr>\n",
       "    <tr>\n",
       "      <th>4</th>\n",
       "      <td>EA0BFE3B299B0672</td>\n",
       "      <td>electric_bike</td>\n",
       "      <td>2024-07-16 19:19:15.034</td>\n",
       "      <td>2024-07-16 19:50:39.140</td>\n",
       "      <td>Melrose St &amp; Broadway</td>\n",
       "      <td>4801.04</td>\n",
       "      <td>W 27 St &amp; 7 Ave</td>\n",
       "      <td>6257.06</td>\n",
       "      <td>40.697481</td>\n",
       "      <td>-73.935877</td>\n",
       "      <td>40.746650</td>\n",
       "      <td>-73.993920</td>\n",
       "      <td>member</td>\n",
       "    </tr>\n",
       "  </tbody>\n",
       "</table>\n",
       "</div>"
      ],
      "text/plain": [
       "            ride_id  rideable_type               started_at  \\\n",
       "0  557426B1CE207702  electric_bike  2024-07-17 19:30:15.471   \n",
       "1  A60E366FEE8B51E8  electric_bike  2024-07-15 19:17:52.523   \n",
       "2  ACA30207F80B5DF9   classic_bike  2024-07-27 13:34:48.531   \n",
       "3  B3A138C956E9A729  electric_bike  2024-07-23 11:01:36.895   \n",
       "4  EA0BFE3B299B0672  electric_bike  2024-07-16 19:19:15.034   \n",
       "\n",
       "                  ended_at           start_station_name start_station_id  \\\n",
       "0  2024-07-17 19:34:22.646  Sullivan St & Washington Sq          5721.01   \n",
       "1  2024-07-15 19:25:24.399  Sullivan St & Washington Sq          5721.01   \n",
       "2  2024-07-27 13:49:55.913             W 37 St & 10 Ave          6611.02   \n",
       "3  2024-07-23 11:06:02.796        Melrose St & Broadway          4801.04   \n",
       "4  2024-07-16 19:50:39.140        Melrose St & Broadway          4801.04   \n",
       "\n",
       "            end_station_name end_station_id  start_lat  start_lng    end_lat  \\\n",
       "0            E 12 St & 3 Ave        5788.12  40.730477 -73.999061  40.732233   \n",
       "1      Forsyth St & Grand St        5382.07  40.730477 -73.999061  40.717798   \n",
       "2     Perry St & Bleecker St        5922.07  40.756604 -73.997901  40.735354   \n",
       "3  Nostrand Ave & Myrtle Ave        4707.04  40.697481 -73.935877  40.695270   \n",
       "4            W 27 St & 7 Ave        6257.06  40.697481 -73.935877  40.746650   \n",
       "\n",
       "     end_lng member_casual  \n",
       "0 -73.988900        member  \n",
       "1 -73.993161        member  \n",
       "2 -74.004831        member  \n",
       "3 -73.952381        member  \n",
       "4 -73.993920        member  "
      ]
     },
     "execution_count": 3,
     "metadata": {},
     "output_type": "execute_result"
    }
   ],
   "source": [
    "borough_polygon_dict\n",
    "df.head()"
   ]
  },
  {
   "cell_type": "markdown",
   "id": "274d987c-3c6a-4ec1-ae14-cd2253d74ea8",
   "metadata": {},
   "source": [
    "## Data Preparation\n",
    "The following operations are required for data cleaning\n",
    "\n",
    "1. Encode `rideable_type` and `member_casual`\n",
    "2. Create fields for `start_date`, `start_time`, `end_date`, `end_time`\n",
    "3. Create field for trip duration\n",
    "4. Create distance between stations using the [Manhattan's Distance](https://www.datacamp.com/tutorial/manhattan-distance)\n",
    "5. Drop any rows with missing station IDs\n",
    "6. Create labels for station borough location"
   ]
  },
  {
   "cell_type": "markdown",
   "id": "3d94eaf2-3fad-4626-8b1b-d14b01863782",
   "metadata": {},
   "source": [
    "## Encoding Binary Variables\n",
    "The `rideable_type` and `member_casual` fields will use dummy encoding using pandas' [`get_dummies`](https://pandas.pydata.org/docs/reference/api/pandas.get_dummies.html) method."
   ]
  },
  {
   "cell_type": "code",
   "execution_count": 4,
   "id": "c6ae3f97-5b90-44f2-b70f-24cf11588649",
   "metadata": {},
   "outputs": [],
   "source": [
    "df = pd.get_dummies(data=df, columns=['rideable_type', 'member_casual'], dtype=\"int\", drop_first=True)"
   ]
  },
  {
   "cell_type": "markdown",
   "id": "882a08ec-3c8f-49fe-9447-2c74799d4d58",
   "metadata": {},
   "source": [
    "## Drop any NA values\n",
    "We want to drop any values with `Null` for missing station IDs, names, ride IDs, coordinates or names because if any of them are `Null`, then we cannot understand what what on during a ride."
   ]
  },
  {
   "cell_type": "code",
   "execution_count": 5,
   "id": "f204dcf0-bb47-42fa-b992-1adc95bfb228",
   "metadata": {},
   "outputs": [],
   "source": [
    "df.dropna(subset=['ride_id', 'started_at', 'ended_at', 'start_station_name', 'start_station_id',\n",
    "                  'end_station_id', 'end_station_name', 'start_lat', 'end_lat', 'end_lng', 'end_lng'], inplace=True)"
   ]
  },
  {
   "cell_type": "markdown",
   "id": "d56c7b93-4f1b-4bdd-a61a-ec17eb640119",
   "metadata": {},
   "source": [
    "## Create fields for `start_date`, `start_time`, `end_date`, `end_time`\n",
    "For ease of use of time and date information, we will split the`started_at` and `ended_at`fields from `datetime` data type to `date` and `timestamp` respectively."
   ]
  },
  {
   "cell_type": "code",
   "execution_count": 6,
   "id": "bd468df7-90bd-4f5f-b44a-eae4fff9286c",
   "metadata": {},
   "outputs": [],
   "source": [
    "# Convert strings to datetime datatypes\n",
    "df['started_at'] = pd.to_datetime(df['started_at'])\n",
    "df['ended_at'] = pd.to_datetime(df['ended_at'])\n",
    "\n",
    "# Extract date and time values respectively\n",
    "date_map = lambda val: val.date()\n",
    "time_map = lambda val: val.time()\n",
    "\n",
    "# Create columns\n",
    "df['start_date'] = df['started_at'].map(date_map)\n",
    "df['end_date'] = df['ended_at'].map(date_map)\n",
    "df['start_time'] =  df['started_at'].map(time_map)\n",
    "df['end_time'] = df['ended_at'].map(time_map)"
   ]
  },
  {
   "cell_type": "markdown",
   "id": "2fafcb2b-722e-4422-b3b7-9c07e049c0af",
   "metadata": {},
   "source": [
    "## Create field for trip_duration\n",
    "We will now create the `trip_duration` field that describes the trip duration.  We will used the _Manhattan's distance_ because New York City is designed in a grid like system and the Manhattan's distance works well with this type of structure.  "
   ]
  },
  {
   "cell_type": "code",
   "execution_count": 7,
   "id": "7176d452-2e7e-4c03-b9d4-41ab672976b0",
   "metadata": {},
   "outputs": [],
   "source": [
    "# Create timedelta datatype\n",
    "trip_duration = df['ended_at'] - df['started_at']\n",
    "\n",
    "# Get total seconds from timedelta\n",
    "get_trip_seconds = lambda val: val.total_seconds()\n",
    "df['trip_duration'] = trip_duration.map(get_trip_seconds)"
   ]
  },
  {
   "cell_type": "markdown",
   "id": "21adff24-5c0b-45d8-9d12-5eb9f7dd021b",
   "metadata": {},
   "source": [
    "## Get Distance Between All Stations\n",
    "We now will capture the distances between all stations using the [Manhattan's Distance](https://www.datacamp.com/tutorial/manhattan-distance), which is computed as follows\n",
    "\n",
    "$$\n",
    "d = |lat_{start} - lat_{end}| + |lon_{start} - lon_{end}|\n",
    "$$"
   ]
  },
  {
   "cell_type": "code",
   "execution_count": 8,
   "id": "3bb0964b-51b6-4f21-bd95-c958a1c8d63a",
   "metadata": {},
   "outputs": [],
   "source": [
    "def haversine_map(row):\n",
    "    \"\"\"\n",
    "    haversine_map: returns the haversine distance between the start and end stations of a ride in a dataframe\n",
    "    input: dataframe row\n",
    "    output: distance\n",
    "    \"\"\"\n",
    "    start_coordinates = (row['start_lat'], row['start_lng'])\n",
    "    end_coordinates = (row['end_lat'], row['end_lng'])\n",
    "    dist = haversine(start_coordinates, end_coordinates, unit=\"m\")\n",
    "    return dist\n",
    "\n",
    "def manhattan_map(row):\n",
    "    \"\"\"\n",
    "    manhattan_map: returns the manhattan's distance between the start and end stations of a ride in a dataframe\n",
    "    input: dataframe row\n",
    "    output: distance\n",
    "    \"\"\"\n",
    "    start_lat = row['start_lat']\n",
    "    start_lng = row['start_lng']\n",
    "    end_lat = row['end_lat']\n",
    "    end_lng = row['end_lng']\n",
    "    dist = abs(start_lat - end_lat) + abs(start_lng - end_lng)\n",
    "    return dist\n",
    "\n",
    "df['ride_dist'] = df.apply(manhattan_map, axis=1)"
   ]
  },
  {
   "cell_type": "markdown",
   "id": "eeffe716-f2b2-484a-9a27-7804a9fc7e9b",
   "metadata": {},
   "source": [
    "## Create labels for station borough location\n",
    "Using Polygons, we can map coordinates of stations to their respective boroughs.  Any stations not located in a borough (some stations are located in New Jersey) will be removed"
   ]
  },
  {
   "cell_type": "code",
   "execution_count": 9,
   "id": "6511d8fd-e2e5-425b-a519-45ac6558e7c9",
   "metadata": {},
   "outputs": [],
   "source": [
    "def label_boroughs(row, borough_dict):\n",
    "    lat = row['lat']\n",
    "    lng = row['lon']\n",
    "    point = Point(lng, lat)\n",
    "    borough = np.nan\n",
    "    for name, polygon in borough_dict.items():\n",
    "        if point.within(polygon):\n",
    "            borough = name\n",
    "            break\n",
    "        else:\n",
    "            continue\n",
    "    return borough\n",
    "\n",
    "# Label boroughs in station data\n",
    "station_info['borough'] = station_info.apply(label_boroughs, borough_dict=borough_polygon_dict, axis=1)\n",
    "station_info.dropna(inplace=True)\n",
    "\n",
    "# join ride data to station info\n",
    "boroughs = station_info[['short_name', 'borough']]\n",
    "# For start stations\n",
    "df = df.merge(boroughs, left_on=\"start_station_id\", right_on=\"short_name\")\n",
    "df.drop('short_name', inplace=True, axis=1)\n",
    "df.rename(columns={\"borough\": \"start_borough\"}, inplace=True)\n",
    "# For end stations\n",
    "df = df.merge(boroughs, left_on=\"end_station_id\", right_on=\"short_name\")\n",
    "df.drop('short_name', inplace=True, axis=1)\n",
    "df.rename(columns={\"borough\": \"end_borough\"}, inplace=True)"
   ]
  },
  {
   "cell_type": "markdown",
   "id": "195d1f7a-e5bf-46b1-95dd-f4daaf7bd986",
   "metadata": {},
   "source": [
    "# Modeling and Visualize\n",
    "We aim to answer the below questions.\n",
    "\n",
    "1. Which stations have longer trip times on average?\n",
    "2. When are bikers most actively riding bikes?\n",
    "3. Which stations have the receive bikes from the most stations? Which stations send bikes to the most stations?\n",
    "4. Can we identify any monotonic relationships for future modeling?\n",
    "\n"
   ]
  },
  {
   "cell_type": "markdown",
   "id": "6f7540a2-eb32-4a83-ad98-10607018509f",
   "metadata": {},
   "source": [
    "## Question One\n",
    "_Which borough has more stations?_\n",
    "<!-- https://automating-gis-processes.github.io/2017/lessons/L3/point-in-polygon.html -->"
   ]
  },
  {
   "cell_type": "code",
   "execution_count": 10,
   "id": "18d0d062-753d-4c49-a102-1572ab0ebcdf",
   "metadata": {},
   "outputs": [
    {
     "data": {
      "image/png": "[encoded data removed]",
      "text/plain": [
       "<Figure size 640x480 with 1 Axes>"
      ]
     },
     "metadata": {},
     "output_type": "display_data"
    }
   ],
   "source": [
    "# Colors for trip time plot\n",
    "colors_trip_times = ['orange', 'green', 'red', 'purple']\n",
    "# Create plot\n",
    "trip_time_plot = station_info[\"borough\"].value_counts().plot.bar(\n",
    "    color=colors_trip_times, title=\"Number of stations Per Borough\", xlabel=\"Borough\", ylabel=\"Number of Stations\", rot=0, legend=False)\n",
    "# Save plot as image\n",
    "trip_time_plot.get_figure().savefig(\"img/borough_station_count_graph.png\")\n"
   ]
  },
  {
   "cell_type": "markdown",
   "id": "939d7742-96c2-4fc6-b5d8-f60708b3c3e5",
   "metadata": {},
   "source": [
    "It appears that the Bronx has  significantly less stations than any other borough, indicating that more stations should be created there."
   ]
  },
  {
   "cell_type": "markdown",
   "id": "e6ba892d-9bae-4376-9248-c0255382528b",
   "metadata": {},
   "source": [
    "## Question Two\n",
    "_When are bikers most actively riding bikes?_\n",
    "\n",
    "In order to find when bikers are most active, we will show categorize each ride's `start_time` field into morning, afternoon, evening, and night.  The hours of of these times of days are defined [here](https://www.britannica.com/dictionary/eb/qa/parts-of-the-day-early-morning-late-morning-etc)\n",
    "\n",
    "|Part of Day|Time Interval|\n",
    "|:---:|:---:|\n",
    "|Morning|05:00:00 - 11:59:59|\n",
    "|Afternoon|12:00:00 - 16:59:59|\n",
    "|Evening|17:00:00 - 20:59:59|\n",
    "|Night|21:00:00 - 04:59:59|"
   ]
  },
  {
   "cell_type": "code",
   "execution_count": 11,
   "id": "4e03d7f9-18ee-4165-8c2c-4357e2bb5f69",
   "metadata": {},
   "outputs": [],
   "source": [
    "def time_categorizer(row):\n",
    "    \"\"\"\n",
    "    time_categorizer: Gets the start time of a ride and categorizes it to morning, afternoon, evening, or night\n",
    "    input: dataframe row\n",
    "    output: time of day of a trip as a string\n",
    "    \"\"\"\n",
    "    \n",
    "    start_time = row['start_time']\n",
    "    hour = start_time.hour\n",
    "    if hour > 4 and hour < 12: \n",
    "        time_of_day = \"morning\"\n",
    "    elif hour > 11 and hour < 17:\n",
    "        time_of_day = \"afternoon\"\n",
    "    elif hour > 16 and hour < 21:\n",
    "        time_of_day = \"evening\"\n",
    "    else:\n",
    "        time_of_day = \"night\"\n",
    "    return time_of_day\n",
    "    \n",
    "df['time_of_day'] = df.apply(time_categorizer, axis=1)"
   ]
  },
  {
   "cell_type": "code",
   "execution_count": 12,
   "id": "9e138591-af36-4849-a507-8a72ea9babf2",
   "metadata": {},
   "outputs": [
    {
     "data": {
      "image/png": "[encoded data removed]",
      "text/plain": [
       "<Figure size 640x480 with 1 Axes>"
      ]
     },
     "metadata": {},
     "output_type": "display_data"
    }
   ],
   "source": [
    "# Get the counts of time of day riders ride bikes\n",
    "time_of_day_counts = df['time_of_day'].value_counts()\n",
    "# Colors for time of day riders ride bikes plot\n",
    "colors_time_of_day_counts = ['red', 'blue', 'green', 'purple']\n",
    "# Create time of day riders ride bikes plot\n",
    "time_riders_ride_plot = time_of_day_counts.plot.bar(color=colors_time_of_day_counts, rot=0, title=\"Time Riders Ride Bikes\", xlabel=\"Time of Day\", ylabel=\"Number of Riders\")\n",
    "## Save time of day riders ride bikes plot\n",
    "time_riders_ride_plot.get_figure().savefig(\"img/time_riders_ride_bike_graph.png\")"
   ]
  },
  {
   "cell_type": "markdown",
   "id": "08735287-90fc-40e2-b75b-ab1bd95b9cd0",
   "metadata": {},
   "source": [
    "Not surprisingly, for the month of July, the evening is the most popular time to ride bikes, as it is after the business day and the temperature is typically cooler."
   ]
  },
  {
   "cell_type": "markdown",
   "id": "6e1d8dc3-b796-429b-9e3e-467254720f21",
   "metadata": {},
   "source": [
    "## Question Three\n",
    "_Which stations receive bikes from the most stations? Which stations send bikes to the most stations?_\n",
    "\n",
    "In order to capture this, we will create a graph data structure whose nodes are the stations and edges represent individual trips between stations. Each edge is weighted by the number of bikes going into and out of a station. Therefore, computing node in-degree and out-degree allows us to understand how many bikes go into or out of a station."
   ]
  },
  {
   "cell_type": "code",
   "execution_count": 13,
   "id": "3b700fe4-af9a-4b2a-bc39-dc9b5be5327a",
   "metadata": {},
   "outputs": [],
   "source": [
    "# Get a list the count of each station for when they start or end a trip\n",
    "trips = df[[\"start_station_id\", \"end_station_id\"]].groupby([\"start_station_id\", \"end_station_id\"], as_index=False).value_counts()\n",
    "tuple_mapper = lambda row: (row[\"start_station_id\"], row[\"end_station_id\"], {\"trip_count\": row['count']})\n",
    "x = list(trips.apply(tuple_mapper, axis=1))"
   ]
  },
  {
   "cell_type": "code",
   "execution_count": 14,
   "id": "b1e0c425-d605-4c52-9120-08e1278004e1",
   "metadata": {
    "scrolled": true
   },
   "outputs": [],
   "source": [
    "# Create graph data structure\n",
    "g = nx.DiGraph()\n",
    "g.add_edges_from(x)"
   ]
  },
  {
   "cell_type": "code",
   "execution_count": 29,
   "id": "b114eeef-9555-432b-8be4-8d48e907f673",
   "metadata": {},
   "outputs": [],
   "source": [
    "# Get in degrees and out degrees\n",
    "in_degrees = dict(g.in_degree())\n",
    "in_degrees = pd.Series(in_degrees.values(), index=in_degrees.keys())\n",
    "in_degrees = in_degrees.sort_values(ascending=False).head(5)\n",
    "\n",
    "out_degrees = dict(g.out_degree())\n",
    "out_degrees = pd.Series(out_degrees.values(), index=out_degrees.keys())\n",
    "out_degrees = out_degrees.sort_values(ascending=False).head(5)"
   ]
  },
  {
   "cell_type": "code",
   "execution_count": 50,
   "id": "7c0274ab-dfd3-4779-a8e7-82b68aa18e0e",
   "metadata": {},
   "outputs": [],
   "source": [
    "# Get coordinates for in and out degree\n",
    "in_coordinates = station_info.loc[station_info['short_name'].isin(in_degrees.keys()), ['short_name', 'lat', 'lon']]\n",
    "in_coordinates['degree'] = 'in'\n",
    "out_coordinates = station_info.loc[station_info['short_name'].isin(out_degrees.keys()), ['short_name', 'lat', 'lon']]\n",
    "out_coordinates['degree'] = 'out'\n",
    "degree_coor = pd.concat([in_coordinates, out_coordinates])"
   ]
  },
  {
   "cell_type": "code",
   "execution_count": 48,
   "id": "af616a17-4bc8-4af6-a6ce-49d2a0eaa561",
   "metadata": {},
   "outputs": [
    {
     "data": {
      "text/html": [
       "<div style=\"width:100%;\"><div style=\"position:relative;width:100%;height:0;padding-bottom:60%;\"><span style=\"color:#565656\">Make this Notebook Trusted to load map: File -> Trust Notebook</span><iframe srcdoc=\"&lt;!DOCTYPE html&gt;\n",
       "&lt;html&gt;\n",
       "&lt;head&gt;\n",
       "    \n",
       "    &lt;meta http-equiv=&quot;content-type&quot; content=&quot;text/html; charset=UTF-8&quot; /&gt;\n",
       "    \n",
       "        &lt;script&gt;\n",
       "            L_NO_TOUCH = false;\n",
       "            L_DISABLE_3D = false;\n",
       "        &lt;/script&gt;\n",
       "    \n",
       "    &lt;style&gt;html, body {width: 100%;height: 100%;margin: 0;padding: 0;}&lt;/style&gt;\n",
       "    &lt;style&gt;#map {position:absolute;top:0;bottom:0;right:0;left:0;}&lt;/style&gt;\n",
       "    &lt;script src=&quot;https://cdn.jsdelivr.net/npm/leaflet@1.9.3/dist/leaflet.js&quot;&gt;&lt;/script&gt;\n",
       "    &lt;script src=&quot;https://code.jquery.com/jquery-3.7.1.min.js&quot;&gt;&lt;/script&gt;\n",
       "    &lt;script src=&quot;https://cdn.jsdelivr.net/npm/bootstrap@5.2.2/dist/js/bootstrap.bundle.min.js&quot;&gt;&lt;/script&gt;\n",
       "    &lt;script src=&quot;https://cdnjs.cloudflare.com/ajax/libs/Leaflet.awesome-markers/2.0.2/leaflet.awesome-markers.js&quot;&gt;&lt;/script&gt;\n",
       "    &lt;link rel=&quot;stylesheet&quot; href=&quot;https://cdn.jsdelivr.net/npm/leaflet@1.9.3/dist/leaflet.css&quot;/&gt;\n",
       "    &lt;link rel=&quot;stylesheet&quot; href=&quot;https://cdn.jsdelivr.net/npm/bootstrap@5.2.2/dist/css/bootstrap.min.css&quot;/&gt;\n",
       "    &lt;link rel=&quot;stylesheet&quot; href=&quot;https://netdna.bootstrapcdn.com/bootstrap/3.0.0/css/bootstrap-glyphicons.css&quot;/&gt;\n",
       "    &lt;link rel=&quot;stylesheet&quot; href=&quot;https://cdn.jsdelivr.net/npm/@fortawesome/fontawesome-free@6.2.0/css/all.min.css&quot;/&gt;\n",
       "    &lt;link rel=&quot;stylesheet&quot; href=&quot;https://cdnjs.cloudflare.com/ajax/libs/Leaflet.awesome-markers/2.0.2/leaflet.awesome-markers.css&quot;/&gt;\n",
       "    &lt;link rel=&quot;stylesheet&quot; href=&quot;https://cdn.jsdelivr.net/gh/python-visualization/folium/folium/templates/leaflet.awesome.rotate.min.css&quot;/&gt;\n",
       "    \n",
       "            &lt;meta name=&quot;viewport&quot; content=&quot;width=device-width,\n",
       "                initial-scale=1.0, maximum-scale=1.0, user-scalable=no&quot; /&gt;\n",
       "            &lt;style&gt;\n",
       "                #map_e416580ee7055671ace1ead66afd1566 {\n",
       "                    position: relative;\n",
       "                    width: 100.0%;\n",
       "                    height: 100.0%;\n",
       "                    left: 0.0%;\n",
       "                    top: 0.0%;\n",
       "                }\n",
       "                .leaflet-container { font-size: 1rem; }\n",
       "            &lt;/style&gt;\n",
       "        \n",
       "&lt;/head&gt;\n",
       "&lt;body&gt;\n",
       "    \n",
       "    \n",
       "            &lt;div class=&quot;folium-map&quot; id=&quot;map_e416580ee7055671ace1ead66afd1566&quot; &gt;&lt;/div&gt;\n",
       "        \n",
       "&lt;/body&gt;\n",
       "&lt;script&gt;\n",
       "    \n",
       "    \n",
       "            var map_e416580ee7055671ace1ead66afd1566 = L.map(\n",
       "                &quot;map_e416580ee7055671ace1ead66afd1566&quot;,\n",
       "                {\n",
       "                    center: [40.7685, -73.9822],\n",
       "                    crs: L.CRS.EPSG3857,\n",
       "                    zoom: 15,\n",
       "                    zoomControl: true,\n",
       "                    preferCanvas: false,\n",
       "                }\n",
       "            );\n",
       "\n",
       "            \n",
       "\n",
       "        \n",
       "    \n",
       "            var tile_layer_84d6a4e2f53a1ccf6646a0c54a90d399 = L.tileLayer(\n",
       "                &quot;https://{s}.basemaps.cartocdn.com/rastertiles/voyager_labels_under/{z}/{x}/{y}{r}.png&quot;,\n",
       "                {&quot;attribution&quot;: &quot;\\u0026copy; \\u003ca href=\\&quot;https://www.openstreetmap.org/copyright\\&quot;\\u003eOpenStreetMap\\u003c/a\\u003e contributors \\u0026copy; \\u003ca href=\\&quot;https://carto.com/attributions\\&quot;\\u003eCARTO\\u003c/a\\u003e&quot;, &quot;detectRetina&quot;: false, &quot;maxZoom&quot;: 18, &quot;minZoom&quot;: 0, &quot;noWrap&quot;: false, &quot;opacity&quot;: 1, &quot;subdomains&quot;: &quot;abc&quot;, &quot;tms&quot;: false}\n",
       "            );\n",
       "        \n",
       "    \n",
       "            tile_layer_84d6a4e2f53a1ccf6646a0c54a90d399.addTo(map_e416580ee7055671ace1ead66afd1566);\n",
       "        \n",
       "    \n",
       "            var marker_3027ab63f401d6c21eaedcaf04fdeb78 = L.marker(\n",
       "                [40.68506807308177, -73.97790759801863],\n",
       "                {}\n",
       "            ).addTo(map_e416580ee7055671ace1ead66afd1566);\n",
       "        \n",
       "    \n",
       "            var icon_924e903f59a9e2a9186d53c0cb1dbe83 = L.AwesomeMarkers.icon(\n",
       "                {&quot;extraClasses&quot;: &quot;fa-rotate-0&quot;, &quot;icon&quot;: &quot;person-biking&quot;, &quot;iconColor&quot;: &quot;white&quot;, &quot;markerColor&quot;: &quot;blue&quot;, &quot;prefix&quot;: &quot;fa&quot;}\n",
       "            );\n",
       "            marker_3027ab63f401d6c21eaedcaf04fdeb78.setIcon(icon_924e903f59a9e2a9186d53c0cb1dbe83);\n",
       "        \n",
       "    \n",
       "            marker_3027ab63f401d6c21eaedcaf04fdeb78.bindTooltip(\n",
       "                `&lt;div&gt;\n",
       "                     in\n",
       "                 &lt;/div&gt;`,\n",
       "                {&quot;sticky&quot;: true}\n",
       "            );\n",
       "        \n",
       "    \n",
       "            var marker_67207578e7c708902298fb98a23a6fbf = L.marker(\n",
       "                [40.71427487, -73.98990025],\n",
       "                {}\n",
       "            ).addTo(map_e416580ee7055671ace1ead66afd1566);\n",
       "        \n",
       "    \n",
       "            var icon_bf551405dab81c85caecd538740592cd = L.AwesomeMarkers.icon(\n",
       "                {&quot;extraClasses&quot;: &quot;fa-rotate-0&quot;, &quot;icon&quot;: &quot;person-biking&quot;, &quot;iconColor&quot;: &quot;white&quot;, &quot;markerColor&quot;: &quot;blue&quot;, &quot;prefix&quot;: &quot;fa&quot;}\n",
       "            );\n",
       "            marker_67207578e7c708902298fb98a23a6fbf.setIcon(icon_bf551405dab81c85caecd538740592cd);\n",
       "        \n",
       "    \n",
       "            marker_67207578e7c708902298fb98a23a6fbf.bindTooltip(\n",
       "                `&lt;div&gt;\n",
       "                     in\n",
       "                 &lt;/div&gt;`,\n",
       "                {&quot;sticky&quot;: true}\n",
       "            );\n",
       "        \n",
       "    \n",
       "            var marker_8ad2272ffa4c03b3d93d9d9832ec77ca = L.marker(\n",
       "                [40.71260486, -73.96264403],\n",
       "                {}\n",
       "            ).addTo(map_e416580ee7055671ace1ead66afd1566);\n",
       "        \n",
       "    \n",
       "            var icon_8cd24c431869ae7f776b983c2370178c = L.AwesomeMarkers.icon(\n",
       "                {&quot;extraClasses&quot;: &quot;fa-rotate-0&quot;, &quot;icon&quot;: &quot;person-biking&quot;, &quot;iconColor&quot;: &quot;white&quot;, &quot;markerColor&quot;: &quot;blue&quot;, &quot;prefix&quot;: &quot;fa&quot;}\n",
       "            );\n",
       "            marker_8ad2272ffa4c03b3d93d9d9832ec77ca.setIcon(icon_8cd24c431869ae7f776b983c2370178c);\n",
       "        \n",
       "    \n",
       "            marker_8ad2272ffa4c03b3d93d9d9832ec77ca.bindTooltip(\n",
       "                `&lt;div&gt;\n",
       "                     in\n",
       "                 &lt;/div&gt;`,\n",
       "                {&quot;sticky&quot;: true}\n",
       "            );\n",
       "        \n",
       "    \n",
       "            var marker_5e320a9ba74e06739248334189a54f7d = L.marker(\n",
       "                [40.73454567, -73.99074142],\n",
       "                {}\n",
       "            ).addTo(map_e416580ee7055671ace1ead66afd1566);\n",
       "        \n",
       "    \n",
       "            var icon_93016830256fd57d06466937d7515f3b = L.AwesomeMarkers.icon(\n",
       "                {&quot;extraClasses&quot;: &quot;fa-rotate-0&quot;, &quot;icon&quot;: &quot;person-biking&quot;, &quot;iconColor&quot;: &quot;white&quot;, &quot;markerColor&quot;: &quot;blue&quot;, &quot;prefix&quot;: &quot;fa&quot;}\n",
       "            );\n",
       "            marker_5e320a9ba74e06739248334189a54f7d.setIcon(icon_93016830256fd57d06466937d7515f3b);\n",
       "        \n",
       "    \n",
       "            marker_5e320a9ba74e06739248334189a54f7d.bindTooltip(\n",
       "                `&lt;div&gt;\n",
       "                     in\n",
       "                 &lt;/div&gt;`,\n",
       "                {&quot;sticky&quot;: true}\n",
       "            );\n",
       "        \n",
       "    \n",
       "            var marker_b9bc3917eab6fcdba60388ac453cf087 = L.marker(\n",
       "                [40.76500525, -73.95818491],\n",
       "                {}\n",
       "            ).addTo(map_e416580ee7055671ace1ead66afd1566);\n",
       "        \n",
       "    \n",
       "            var icon_555471a1c564b42fca8018188530d7fa = L.AwesomeMarkers.icon(\n",
       "                {&quot;extraClasses&quot;: &quot;fa-rotate-0&quot;, &quot;icon&quot;: &quot;person-biking&quot;, &quot;iconColor&quot;: &quot;white&quot;, &quot;markerColor&quot;: &quot;blue&quot;, &quot;prefix&quot;: &quot;fa&quot;}\n",
       "            );\n",
       "            marker_b9bc3917eab6fcdba60388ac453cf087.setIcon(icon_555471a1c564b42fca8018188530d7fa);\n",
       "        \n",
       "    \n",
       "            marker_b9bc3917eab6fcdba60388ac453cf087.bindTooltip(\n",
       "                `&lt;div&gt;\n",
       "                     in\n",
       "                 &lt;/div&gt;`,\n",
       "                {&quot;sticky&quot;: true}\n",
       "            );\n",
       "        \n",
       "    \n",
       "            var marker_0c982e40254752dcf909c8a66bbe75e2 = L.marker(\n",
       "                [40.734814, -73.992085],\n",
       "                {}\n",
       "            ).addTo(map_e416580ee7055671ace1ead66afd1566);\n",
       "        \n",
       "    \n",
       "            var icon_dc37fa2931b37e74d70c5b84356c9275 = L.AwesomeMarkers.icon(\n",
       "                {&quot;extraClasses&quot;: &quot;fa-rotate-0&quot;, &quot;icon&quot;: &quot;person-biking&quot;, &quot;iconColor&quot;: &quot;white&quot;, &quot;markerColor&quot;: &quot;green&quot;, &quot;prefix&quot;: &quot;fa&quot;}\n",
       "            );\n",
       "            marker_0c982e40254752dcf909c8a66bbe75e2.setIcon(icon_dc37fa2931b37e74d70c5b84356c9275);\n",
       "        \n",
       "    \n",
       "            marker_0c982e40254752dcf909c8a66bbe75e2.bindTooltip(\n",
       "                `&lt;div&gt;\n",
       "                     out\n",
       "                 &lt;/div&gt;`,\n",
       "                {&quot;sticky&quot;: true}\n",
       "            );\n",
       "        \n",
       "    \n",
       "            var marker_a484cab27c794a8587fb5f553352871a = L.marker(\n",
       "                [40.71534825, -73.96024116],\n",
       "                {}\n",
       "            ).addTo(map_e416580ee7055671ace1ead66afd1566);\n",
       "        \n",
       "    \n",
       "            var icon_832a6017464330c8eec25302cf0adec0 = L.AwesomeMarkers.icon(\n",
       "                {&quot;extraClasses&quot;: &quot;fa-rotate-0&quot;, &quot;icon&quot;: &quot;person-biking&quot;, &quot;iconColor&quot;: &quot;white&quot;, &quot;markerColor&quot;: &quot;green&quot;, &quot;prefix&quot;: &quot;fa&quot;}\n",
       "            );\n",
       "            marker_a484cab27c794a8587fb5f553352871a.setIcon(icon_832a6017464330c8eec25302cf0adec0);\n",
       "        \n",
       "    \n",
       "            marker_a484cab27c794a8587fb5f553352871a.bindTooltip(\n",
       "                `&lt;div&gt;\n",
       "                     out\n",
       "                 &lt;/div&gt;`,\n",
       "                {&quot;sticky&quot;: true}\n",
       "            );\n",
       "        \n",
       "    \n",
       "            var marker_8ea98d6120dfd53f26876a867ac9b0c3 = L.marker(\n",
       "                [40.717318403855785, -73.99067759513855],\n",
       "                {}\n",
       "            ).addTo(map_e416580ee7055671ace1ead66afd1566);\n",
       "        \n",
       "    \n",
       "            var icon_35158d95b19df1c5cc5d51ff7d1105bd = L.AwesomeMarkers.icon(\n",
       "                {&quot;extraClasses&quot;: &quot;fa-rotate-0&quot;, &quot;icon&quot;: &quot;person-biking&quot;, &quot;iconColor&quot;: &quot;white&quot;, &quot;markerColor&quot;: &quot;green&quot;, &quot;prefix&quot;: &quot;fa&quot;}\n",
       "            );\n",
       "            marker_8ea98d6120dfd53f26876a867ac9b0c3.setIcon(icon_35158d95b19df1c5cc5d51ff7d1105bd);\n",
       "        \n",
       "    \n",
       "            marker_8ea98d6120dfd53f26876a867ac9b0c3.bindTooltip(\n",
       "                `&lt;div&gt;\n",
       "                     out\n",
       "                 &lt;/div&gt;`,\n",
       "                {&quot;sticky&quot;: true}\n",
       "            );\n",
       "        \n",
       "    \n",
       "            var marker_89140c45618cb848d1ebe33d0fe9b2f1 = L.marker(\n",
       "                [40.73454567, -73.99074142],\n",
       "                {}\n",
       "            ).addTo(map_e416580ee7055671ace1ead66afd1566);\n",
       "        \n",
       "    \n",
       "            var icon_28de3255cf68915c5449a2d7562db0af = L.AwesomeMarkers.icon(\n",
       "                {&quot;extraClasses&quot;: &quot;fa-rotate-0&quot;, &quot;icon&quot;: &quot;person-biking&quot;, &quot;iconColor&quot;: &quot;white&quot;, &quot;markerColor&quot;: &quot;green&quot;, &quot;prefix&quot;: &quot;fa&quot;}\n",
       "            );\n",
       "            marker_89140c45618cb848d1ebe33d0fe9b2f1.setIcon(icon_28de3255cf68915c5449a2d7562db0af);\n",
       "        \n",
       "    \n",
       "            marker_89140c45618cb848d1ebe33d0fe9b2f1.bindTooltip(\n",
       "                `&lt;div&gt;\n",
       "                     out\n",
       "                 &lt;/div&gt;`,\n",
       "                {&quot;sticky&quot;: true}\n",
       "            );\n",
       "        \n",
       "    \n",
       "            var marker_e16a73dd6ac6f85c5ffb5519b2a5baff = L.marker(\n",
       "                [40.76500525, -73.95818491],\n",
       "                {}\n",
       "            ).addTo(map_e416580ee7055671ace1ead66afd1566);\n",
       "        \n",
       "    \n",
       "            var icon_7291f4368e1e8e4e0e0853e721fb42c4 = L.AwesomeMarkers.icon(\n",
       "                {&quot;extraClasses&quot;: &quot;fa-rotate-0&quot;, &quot;icon&quot;: &quot;person-biking&quot;, &quot;iconColor&quot;: &quot;white&quot;, &quot;markerColor&quot;: &quot;green&quot;, &quot;prefix&quot;: &quot;fa&quot;}\n",
       "            );\n",
       "            marker_e16a73dd6ac6f85c5ffb5519b2a5baff.setIcon(icon_7291f4368e1e8e4e0e0853e721fb42c4);\n",
       "        \n",
       "    \n",
       "            marker_e16a73dd6ac6f85c5ffb5519b2a5baff.bindTooltip(\n",
       "                `&lt;div&gt;\n",
       "                     out\n",
       "                 &lt;/div&gt;`,\n",
       "                {&quot;sticky&quot;: true}\n",
       "            );\n",
       "        \n",
       "&lt;/script&gt;\n",
       "&lt;/html&gt;\" style=\"position:absolute;width:100%;height:100%;left:0;top:0;border:none !important;\" allowfullscreen webkitallowfullscreen mozallowfullscreen></iframe></div></div>"
      ],
      "text/plain": [
       "<folium.folium.Map at 0x32a83d6d0>"
      ]
     },
     "execution_count": 48,
     "metadata": {},
     "output_type": "execute_result"
    }
   ],
   "source": [
    "# ---- MAKING MAPS ----\n",
    "# <i class=\"fa-solid fa-person-biking\"></i>\n",
    "# <i class=\"fa-solid fa-person\"></i>\n",
    "kw_in ={\"prefix\": \"fa\", \"color\": \"blue\", \"icon\": \"person-biking\"}\n",
    "kw_out ={\"prefix\": \"fa\", \"color\": \"green\", \"icon\": \"person-biking\"}\n",
    "m = folium.Map(tiles='https://{s}.basemaps.cartocdn.com/rastertiles/voyager_labels_under/{z}/{x}/{y}{r}.png',\n",
    "    attr='&copy; <a href=\"https://www.openstreetmap.org/copyright\">OpenStreetMap</a> contributors &copy; <a href=\"https://carto.com/attributions\">CARTO</a>',\n",
    "   location=test_loc, zoom_start=15)\n",
    "for index, row in degree_coor.iterrows():\n",
    "    lat = row.lat\n",
    "    lon = row.lon\n",
    "    tooltip = row.degree\n",
    "    if row.degree == 'in':\n",
    "        folium.Marker(\n",
    "        location=[lat, lon],\n",
    "        tooltip=tooltip,\n",
    "        icon=folium.Icon(**kw_in),).add_to(m)\n",
    "    else:\n",
    "        folium.Marker(\n",
    "        location=[lat, lon],\n",
    "        tooltip=tooltip,\n",
    "        icon=folium.Icon(**kw_out),).add_to(m)\n",
    "m"
   ]
  },
  {
   "cell_type": "code",
   "execution_count": 16,
   "id": "29c94b94-a1c6-4790-8756-746f671e1b51",
   "metadata": {},
   "outputs": [
    {
     "data": {
      "image/png": "[encoded data removed]",
      "text/plain": [
       "<Figure size 1200x600 with 2 Axes>"
      ]
     },
     "metadata": {},
     "output_type": "display_data"
    }
   ],
   "source": [
    "# Colors of degree graphs\n",
    "colors_in_degree = ['orange', 'green', 'red', 'purple', 'brown']\n",
    "colors_out_degree = ['pink', 'gray', 'olive', 'cyan', 'blue']\n",
    "# Create figure for graph\n",
    "fig, (ax_one, ax_two) = plt.subplots(1, 2, figsize=(12, 6))\n",
    "# Create graphs\n",
    "fig.suptitle(\"In Degree vs Out Degree of Stations\")\n",
    "ax_one.bar(in_degrees.index, in_degrees, color=colors_in_degree)\n",
    "ax_two.bar(out_degrees.index, out_degrees, color=colors_out_degree)\n",
    "ax_one.set_title(\"In Degree\")\n",
    "ax_one.set_xlabel('Top 5 Stations with Highest In Degree')\n",
    "ax_two.set_title(\"Out Degree\")\n",
    "ax_two.set_xlabel('Top 5 Stations with Highest Out Degree')\n",
    "\n",
    "# Save graph as image\n",
    "plt.savefig(\"img/degree_measure.png\")\n",
    "plt.show()"
   ]
  },
  {
   "cell_type": "markdown",
   "id": "d71812fb-40f2-4ffc-b832-44fd220133a1",
   "metadata": {},
   "source": [
    "On the left, we can see which stations have the most bikes being parked, while the right shows the most popular stations for taking bikes. The fact that these stations are different indicates that bikes do not naturally reallocate to their original stations through rider activity."
   ]
  },
  {
   "cell_type": "markdown",
   "id": "4d7008fc-babb-41a0-9d8e-7c24b7b4b529",
   "metadata": {},
   "source": [
    "## Question Four\n",
    "_Can we identify any monotonic relationships for future modeling?_\n",
    "\n",
    "This is an important question as it helps determine if our data exhibits relationships that can serve as the foundation for a machine learning or statistical model."
   ]
  },
  {
   "cell_type": "code",
   "execution_count": 17,
   "id": "ec04dd8b-39fb-4984-b566-d1e6053c6633",
   "metadata": {},
   "outputs": [],
   "source": [
    "# Get a list of columns we do not need for analysis\n",
    "col_to_delete = df.columns.to_series()\n",
    "col_to_delete = col_to_delete.filter(regex=\"(end)|(_date$)|(_at$)|(_name$)|(_time$)|(ride_id)|(_borough$)\")\n",
    "# Drop columns\n",
    "data = df.drop(col_to_delete, axis=1)"
   ]
  },
  {
   "cell_type": "code",
   "execution_count": 18,
   "id": "ff87b91b-26f7-4f0d-9431-9dbefbc6edd1",
   "metadata": {},
   "outputs": [],
   "source": [
    "# Get dummies for time of day\n",
    "data = pd.get_dummies(data, columns=[\"time_of_day\"], drop_first=True, dtype=int)"
   ]
  },
  {
   "cell_type": "code",
   "execution_count": 19,
   "id": "a7976254-7722-4fa7-a7b8-a48ea319fbc9",
   "metadata": {
    "scrolled": true
   },
   "outputs": [],
   "source": [
    "station_ids = list(station_info['short_name'])\n",
    "# Index stations\n",
    "station_ids = pd.DataFrame(enumerate(station_ids), columns=[\"id\", \"short_name\"])\n",
    "# Merge stations and their indexes\n",
    "data = data.merge(station_ids, left_on=\"start_station_id\", right_on=\"short_name\")\n",
    "# Drop unecessary columns\n",
    "data.drop(labels=[\"start_station_id\", \"short_name\"], inplace=True, axis=1)"
   ]
  },
  {
   "cell_type": "markdown",
   "id": "ec920cae-818f-4202-8e87-6c81c46172e9",
   "metadata": {},
   "source": [
    "### Correlation Matrix"
   ]
  },
  {
   "cell_type": "code",
   "execution_count": 20,
   "id": "2089dd21-548f-4f4c-9db6-a3c030079d98",
   "metadata": {},
   "outputs": [
    {
     "data": {
      "image/png": "[encoded data removed]",
      "text/plain": [
       "<Figure size 1100x900 with 2 Axes>"
      ]
     },
     "metadata": {},
     "output_type": "display_data"
    }
   ],
   "source": [
    "# Get Spearman matrix\n",
    "spearman_corr = data.corr(\"spearman\")\n",
    "# Generate plot for spearman matrix\n",
    "mask = np.triu(np.ones_like(spearman_corr, dtype=bool))\n",
    "# Set up the matplotlib figure\n",
    "f, ax = plt.subplots(figsize=(11, 9))\n",
    "# Generate a custom diverging colormap\n",
    "cmap = sns.diverging_palette(230, 20, as_cmap=True)\n",
    "sns.heatmap(spearman_corr, mask=mask, cmap=cmap)\n",
    "ax.set_title(\"Spearman Correlation Matrix\")\n",
    "# Save image of spearman matrix\n",
    "plt.savefig(\"img/correlation_matrix.png\")\n",
    "plt.show()"
   ]
  },
  {
   "cell_type": "markdown",
   "id": "b7f3c1bb-f239-49a9-9030-2c6d0d85443a",
   "metadata": {},
   "source": [
    "The Spearman correlation matrix allows us to determine whether variables exhibit a monotonic relationship. Since the majority of the data is only weakly monotonic, models that can handle non-linear relationships, such as decision trees and neural networks, might be more viable for prediction."
   ]
  },
  {
   "cell_type": "markdown",
   "id": "aa235e1d-1d13-4ad0-af0c-3adb9fa603cc",
   "metadata": {},
   "source": [
    "# Results, Limitations, Future Work\n",
    "Due to the weak monotonic relationships, more data needs to be collected, analyzed, and modeled. The historical ridership data for July 2024 spans over five datasets. In future work, we aim to utilize data-intensive technologies such as Apache Spark to transform larger volumes of data for analysis. Additionally, we only analyzed one month of data. Further analysis is required to gain a better overall understanding of rider behavior throughout the year."
   ]
  }
 ],
 "metadata": {
  "kernelspec": {
   "display_name": "Python 3 (ipykernel)",
   "language": "python",
   "name": "python3"
  },
  "language_info": {
   "codemirror_mode": {
    "name": "ipython",
    "version": 3
   },
   "file_extension": ".py",
   "mimetype": "text/x-python",
   "name": "python",
   "nbconvert_exporter": "python",
   "pygments_lexer": "ipython3",
   "version": "3.12.4"
  }
 },
 "nbformat": 4,
 "nbformat_minor": 5
}
